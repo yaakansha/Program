{
 "cells": [
  {
   "cell_type": "markdown",
   "id": "56d7a9d8-052a-41e8-9d49-135607265e24",
   "metadata": {},
   "source": [
    "## week5 ##"
   ]
  },
  {
   "cell_type": "code",
   "execution_count": 2,
   "id": "6053b7b1-2bd7-47a7-a6fd-3cba250eb7c4",
   "metadata": {},
   "outputs": [
    {
     "name": "stdout",
     "output_type": "stream",
     "text": [
      "Operating System Platform: win32\n"
     ]
    }
   ],
   "source": [
    "'''Using command-line arguments involves the sys module. Review the docs for this\n",
    "module and using the information in there write a short program that when run\n",
    "from the command-line reports what operating system platform is being used'''\n",
    "\n",
    "\n",
    "import sys\n",
    "def main():\n",
    "    if len(sys.argv) == 1:\n",
    "        print(\"This program reports the operating system platform.\")\n",
    "        print(\"Usage: python script_name.py\") \n",
    "    else:\n",
    "        print(f\"Operating System Platform: {sys.platform}\") \n",
    "if __name__ == \"__main__\":\n",
    "    main()  \n"
   ]
  },
  {
   "cell_type": "code",
   "execution_count": 10,
   "id": "cb57f42a-499f-4489-8c05-da13358e795a",
   "metadata": {},
   "outputs": [
    {
     "name": "stdout",
     "output_type": "stream",
     "text": [
      "Number of arguments provided: 2\n"
     ]
    }
   ],
   "source": [
    "'''Write a program that, when run from the command line, reports how many\n",
    "arguments were provided. (Remember that the program name itself is not an\n",
    "argument).'''\n",
    "\n",
    "import sys\n",
    "def main():\n",
    "    arg_count = len(sys.argv) - 1\n",
    "    print(f\"Number of arguments provided: {arg_count}\") \n",
    "if __name__ == \"__main__\":\n",
    "    main() \n"
   ]
  },
  {
   "cell_type": "code",
   "execution_count": 11,
   "id": "f2de9100-be70-4e40-ae03-cb83f5ee7545",
   "metadata": {},
   "outputs": [
    {
     "name": "stdout",
     "output_type": "stream",
     "text": [
      "The shortest argument is: -f\n"
     ]
    }
   ],
   "source": [
    "'''Write a program that takes a bunch of command-line arguments, and then prints\n",
    "out the shortest. If there is more than one of the shortest length, any will do.\n",
    "Hint: Don't overthink this. A good way to find the shortest is just to sort them.'''\n",
    "\n",
    "import sys\n",
    "\n",
    "def main():\n",
    "    if len(sys.argv) > 1:\n",
    "        arguments = sys.argv[1:]\n",
    "        arguments.sort(key=len)\n",
    "        print(f\"The shortest argument is: {arguments[0]}\")\n",
    "    else:\n",
    "        print(\"No arguments provided.\") \n",
    "if __name__ == \"__main__\":\n",
    "    main() \n",
    "\n"
   ]
  },
  {
   "cell_type": "code",
   "execution_count": 4,
   "id": "e084d038-4071-4b14-a1b6-3577395342f5",
   "metadata": {},
   "outputs": [
    {
     "name": "stdout",
     "output_type": "stream",
     "text": [
      "Usage: python check_website.py <URL>\n"
     ]
    }
   ],
   "source": [
    "'''Write a program that takes a URL as a command-line argument and reports\n",
    "whether or not there is a working website at that address.\n",
    "Hint: You need to get the HTTP response code.\n",
    "Another Hint: StackOverflow is your friend.'''\n",
    "\n",
    "import sys\n",
    "import requests\n",
    "def check_website_status(url):\n",
    "    \"\"\"Check if the given URL has a working website.\"\"\"\n",
    "    try:\n",
    "        response = requests.get(url, timeout=5) \n",
    "        if response.status_code == 200:\n",
    "            print(f\"The website at {url} is working!\")\n",
    "        else:\n",
    "            print(f\"The website at {url} returned status code: {response.status_code}\")\n",
    "    except requests.exceptions.RequestException as e:\n",
    "        print(f\"Could not reach the website at {url}. Error: {e}\")\n",
    "def main():\n",
    "    if len(sys.argv) != 2:\n",
    "        print(\"Usage: python check_website.py <URL>\")\n",
    "        return\n",
    "url = sys.argv[1]  \n",
    "    check_website_status(url)  \n",
    "if __name__ == \"__main__\":\n",
    "    main()\n"
   ]
  },
  {
   "cell_type": "code",
   "execution_count": 1,
   "id": "065ce73a-2dee-40eb-a4d9-4e8eae731e8c",
   "metadata": {},
   "outputs": [
    {
     "name": "stdout",
     "output_type": "stream",
     "text": [
      "No valid temperature readings provided.\n"
     ]
    }
   ],
   "source": [
    "'''Last week you wrote a program that processed a collection of temperature readings\n",
    "entered by the user and displayed the maximum, minimum, and mean. Create a\n",
    "version of that program that takes the values from the command-line instead. Be\n",
    "sure to handle the case where no arguments are provided!'''\n",
    "\n",
    "import sys\n",
    "\n",
    "if len(sys.argv) > 1:\n",
    "    temperatures = []\n",
    "    for arg in sys.argv[1:]:\n",
    "        try:\n",
    "            temperatures.append(float(arg))\n",
    "        except ValueError:\n",
    "            continue  \n",
    "\n",
    "    if temperatures:\n",
    "        print(f\"Max: {max(temperatures)}\")\n",
    "        print(f\"Min: {min(temperatures)}\")\n",
    "        print(f\"Mean: {sum(temperatures) / len(temperatures)}\")\n",
    "    else:\n",
    "        print(\"No valid temperature readings provided.\")\n",
    "else:\n",
    "    print(\"No temperatures provided.\")\n"
   ]
  },
  {
   "cell_type": "code",
   "execution_count": 6,
   "id": "ac6fb3c2-0c9f-43b2-8f2b-fb15ee0c7a8b",
   "metadata": {},
   "outputs": [
    {
     "name": "stdout",
     "output_type": "stream",
     "text": [
      "Usage: python backup_file.py <filename>\n"
     ]
    }
   ],
   "source": [
    "'''Write a program that takes the name of a file as a command-line argument, and\n",
    "creates a backup copy of that file. The backup should contain an exact copy of the\n",
    "contents of the original and should, obviously, have a different name.\n",
    "Hint: By now, you should be getting the idea that there is a built-in way to do the\n",
    "heavy lifting here! Take a look at the \"Brief Tour of the Standard Library\" in the docs.'''\n",
    "\n",
    "import sys\n",
    "import shutil\n",
    "def create_backup(file_name):\n",
    "    \"\"\"Create a backup copy of the given file.\"\"\"\n",
    "    try:\n",
    "        backup_file_name = file_name + \".bak\"\n",
    "        shutil.copy(file_name, backup_file_name)\n",
    "     print(f\"Backup created: {backup_file_name}\")\n",
    "    except FileNotFoundError:\n",
    "        print(f\"Error: The file '{file_name}' does not exist.\")\n",
    "    except PermissionError:\n",
    "        print(f\"Error: Permission denied while accessing '{file_name}'.\")\n",
    "    except Exception as e:\n",
    "        print(f\"An unexpected error occurred: {e}\")\n",
    "\n",
    "def main():\n",
    "    if len(sys.argv) != 2:\n",
    "        print(\"Usage: python backup_file.py <filename>\")\n",
    "        return\n",
    "    file_name = sys.argv[1]\n",
    "    create_backup(file_name)\n",
    "\n",
    "if __name__ == \"__main__\":\n",
    "    main()\n"
   ]
  },
  {
   "cell_type": "markdown",
   "id": "0a2404a6-df99-4f3a-92a6-e3ada0a4af0c",
   "metadata": {},
   "source": [
    "## week6 ##"
   ]
  },
  {
   "cell_type": "code",
   "execution_count": 3,
   "id": "108a064c-d7a6-4410-824a-ca2ee0e93c29",
   "metadata": {},
   "outputs": [
    {
     "name": "stdin",
     "output_type": "stream",
     "text": [
      "Enter a positive integer:  112\n"
     ]
    },
    {
     "name": "stdout",
     "output_type": "stream",
     "text": [
      "The binary representation of 112 is 1110000\n"
     ]
    }
   ],
   "source": [
    "'''Write a function that accepts a positive integer as a parameter and then returns a\n",
    "representation of that number in binary (base 2).\n",
    "Hint: This is in many ways a trick question. Think!'''\n",
    "\n",
    "def to_binary(number):\n",
    "    if number <= 0:\n",
    "         ValueError(\"The number must be a positive integer.\")\n",
    "    return bin(number)[2:]\n",
    "try:\n",
    "    num = int(input(\"Enter a positive integer: \"))\n",
    "    print(f\"The binary representation of {num} is {to_binary(num)}\")\n",
    "except ValueError as e:\n",
    "    print(e)\n"
   ]
  },
  {
   "cell_type": "code",
   "execution_count": 14,
   "id": "3c80c5f3-6f51-4a26-887c-f9419f5ac6b4",
   "metadata": {},
   "outputs": [
    {
     "name": "stdout",
     "output_type": "stream",
     "text": [
      "Factors of 10: [1, 2, 5, 10]\n",
      "Factors of -10: [1, 2, 5, 10]\n",
      "Factors of 7: [1, 7]\n",
      "Factors of 0: [0]\n"
     ]
    }
   ],
   "source": [
    "'''Write and test a function that takes an integer as its parameter and returns the\n",
    "factors of that integer. (A factor is an integer which can be multiplied by another to\n",
    "yield the original).'''\n",
    "\n",
    "def find_factors(number):\n",
    "    if number == 0:\n",
    "        return [0]  \n",
    "    factors = []\n",
    "    for i in range(1, abs(number) + 1):\n",
    "        if number % i == 0:\n",
    "            factors.append(i)\n",
    "    return factors\n",
    "def test_find_factors():\n",
    "    print(\"Factors of 10:\", find_factors(10)) \n",
    "    print(\"Factors of -10:\", find_factors(-10))  \n",
    "    print(\"Factors of 7:\", find_factors(7))  \n",
    "    print(\"Factors of 0:\", find_factors(0))  \n",
    "test_find_factors()\n"
   ]
  },
  {
   "cell_type": "code",
   "execution_count": 15,
   "id": "27519968-67fc-4651-8f15-71250351c0ef",
   "metadata": {},
   "outputs": [
    {
     "name": "stdout",
     "output_type": "stream",
     "text": [
      "Is 2 a prime number? True\n",
      "Is 3 a prime number? True\n",
      "Is 4 a prime number? False\n",
      "Is 5 a prime number? True\n",
      "Is 10 a prime number? False\n",
      "Is 17 a prime number? True\n",
      "Is 19 a prime number? True\n",
      "Is 20 a prime number? False\n",
      "Is 23 a prime number? True\n",
      "Is 25 a prime number? False\n",
      "Is -5 a prime number? False\n",
      "Is 0 a prime number? False\n",
      "Is 1 a prime number? False\n"
     ]
    }
   ],
   "source": [
    "'''Write and test a function that determines if a given integer is a prime number. A\n",
    "prime number is an integer greater than 1 that cannot be produced by multiplying\n",
    "two other integers.'''\n",
    "\n",
    "def is_prime(number):\n",
    "    if number <= 1:\n",
    "        return False  \n",
    "    for i in range(2, int(number ** 0.5) + 1):\n",
    "        if number % i == 0:\n",
    "            return False  \n",
    "    return True\n",
    "def test_is_prime():\n",
    "    test_numbers = [2, 3, 4, 5, 10, 17, 19, 20, 23, 25, -5, 0, 1]\n",
    "    for num in test_numbers:\n",
    "        print(f\"Is {num} a prime number? {is_prime(num)}\")\n",
    "test_is_prime()\n"
   ]
  },
  {
   "cell_type": "code",
   "execution_count": 18,
   "id": "3b26be16-a9f0-46cf-8f06-f174ef250a9c",
   "metadata": {},
   "outputs": [
    {
     "name": "stdout",
     "output_type": "stream",
     "text": [
      "Original: Helluu World\n",
      "Encrypted: dlroWuulleH\n",
      "\n",
      "Original: Python is fun\n",
      "Encrypted: nufsinohtyP\n",
      "\n",
      "Original: This is a test message\n",
      "Encrypted: egassemtsetasisihT\n",
      "\n",
      "Original: No spaces here\n",
      "Encrypted: erehsecapsoN\n",
      "\n",
      "Original: Encryption is cool\n",
      "Encrypted: loocsinoitpyrcnE\n",
      "\n"
     ]
    }
   ],
   "source": [
    "'''Computers are commonly used in encryption. A very simple form of encryption\n",
    "(more accurately \"obfuscation\") would be to remove the spaces from a message\n",
    "and reverse the resulting string. Write, and test, a function that takes a string\n",
    "containing a message and \"encrypts\" it in this way.'''\n",
    "\n",
    "def encrypt_message(message):\n",
    "    no_space_message = message.replace(\" \", \"\")\n",
    "    encrypted_message = no_space_message[::-1]\n",
    "    return encrypted_message\n",
    "def test_encrypt_message():\n",
    "    test_messages = [\n",
    "        \"Helluu World\",\n",
    "        \"Python is fun\",\n",
    "        \"This is a test message\",\n",
    "        \"No spaces here\",\n",
    "        \"Encryption is cool\"\n",
    "    ]\n",
    "    +\n",
    "    for msg in test_messages:\n",
    "        print(f\"Original: {msg}\")\n",
    "        print(f\"Encrypted: {encrypt_message(msg)}\\n\")\n",
    "test_encrypt_message()\n"
   ]
  },
  {
   "cell_type": "code",
   "execution_count": 19,
   "id": "6bb6340b-2e7b-4e4d-adcd-20e80042c415",
   "metadata": {},
   "outputs": [
    {
     "name": "stdout",
     "output_type": "stream",
     "text": [
      "Original Message: send cheese\n",
      "Encrypted Message: sendcheese\n",
      "Interval Used: 16\n"
     ]
    }
   ],
   "source": [
    "'''Another way to hide a message is to include the letters that make it up within\n",
    "seemingly random text. The letters of the message might be every fifth character,\n",
    "for example. Write and test a function that does such encryption. It should\n",
    "randomly generate an interval (between 2 and 20), space the message out\n",
    "accordingly, and should fill the gaps with random letters. The function should\n",
    "return the encrypted message and the interval used.\n",
    "For example, if the message is \"send cheese\", the random interval is 2, and for\n",
    "clarity the random letters are not random:\n",
    "send cheese\n",
    "s e n d c h e e s e\n",
    "sxyexynxydxy cxyhxyexyexysxye'''\n",
    "\n",
    "import random\n",
    "import string\n",
    "def encrypt_with_random_interval(message):\n",
    "    interval = random.randint(2, 20)\n",
    "    encrypted_message = []\n",
    "    for i, char in enumerate(message):\n",
    "        if char != ' ':\n",
    "            encrypted_message.append(char)\n",
    "        if (i + 1) % interval == 0:\n",
    "            encrypted_message.append(random.choice(string.ascii_lowercase)) \n",
    "    encrypted_message_str = ''.join(encrypted_message)\n",
    "    return encrypted_message_str, interval\n",
    "def test_encrypt_with_random_interval():\n",
    "    test_message = \"send cheese\"\n",
    "    encrypted_message, interval_used = encrypt_with_random_interval(test_message)\n",
    "    print(f\"Original Message: {test_message}\")\n",
    "    print(f\"Encrypted Message: {encrypted_message}\")\n",
    "    print(f\"Interval Used: {interval_used}\")\n",
    "test_encrypt_with_random_interval()\n"
   ]
  },
  {
   "cell_type": "code",
   "execution_count": 5,
   "id": "40e58c0c-c9f2-45c3-9ea7-1cf247343780",
   "metadata": {},
   "outputs": [
    {
     "name": "stdout",
     "output_type": "stream",
     "text": [
      "Encrypted Message: senxdxxchxeesxex\n",
      "Decrypted Message: sexdxcxesxx\n"
     ]
    }
   ],
   "source": [
    "'''Write a program that decrypts messages encoded as above.'''\n",
    "\n",
    "\n",
    "def decrypt_with_interval(encrypted_message, interval):\n",
    "    decrypted_message = []\n",
    "    for i, char in enumerate(encrypted_message):\n",
    "        if char not in string.ascii_lowercase or (i + 1) % interval != 0:\n",
    "            decrypted_message.append(char)\n",
    "    return ''.join(decrypted_message)\n",
    "def test_decrypt_with_interval():\n",
    "    encrypted_message = \"senxdxxchxeesxex\" \n",
    "    interval_used = 3 \n",
    "    decrypted_message = decrypt_with_interval(encrypted_message, interval_used)\n",
    "    \n",
    "    print(f\"Encrypted Message: {encrypted_message}\")\n",
    "    print(f\"Decrypted Message: {decrypted_message}\")\n",
    "test_decrypt_with_interval()\n"
   ]
  },
  {
   "cell_type": "markdown",
   "id": "e9fea99f-bd98-486b-8849-86987b6f4adc",
   "metadata": {},
   "source": [
    "## week7 ##"
   ]
  },
  {
   "cell_type": "code",
   "execution_count": 3,
   "id": "d41ce920-5593-4131-ae6a-5d915c295c5f",
   "metadata": {},
   "outputs": [
    {
     "name": "stdout",
     "output_type": "stream",
     "text": [
      "Unique sorted letters in 'cheese': ['c', 'e', 'h', 's']\n"
     ]
    }
   ],
   "source": [
    "'''Write and test a function that takes a string as a parameter and returns a sorted list\n",
    "of all the unique letters used in the string. So, if the string is cheese, the list\n",
    "returned should be ['c', 'e', 'h', 's'].'''\n",
    "\n",
    "def unique_sorted_letters(input_string):\n",
    "    return sorted(set(input_string))\n",
    "def test_unique_sorted_letters():\n",
    "    test_string = \"cheese\"\n",
    "    result = unique_sorted_letters(test_string)\n",
    "    print(f\"Unique sorted letters in '{test_string}': {result}\")\n",
    "test_unique_sorted_letters()\n"
   ]
  },
  {
   "cell_type": "code",
   "execution_count": 5,
   "id": "fcd035d7-1f8d-4d5c-ad56-04d5a2e6024c",
   "metadata": {},
   "outputs": [
    {
     "name": "stdout",
     "output_type": "stream",
     "text": [
      "Letters in either 'hello' or 'world': ['d', 'e', 'h', 'l', 'o', 'r', 'w']\n",
      "Letters in both 'hello' and 'world': ['l', 'o']\n",
      "Letters in either 'hello' or 'world', but not both: ['d', 'e', 'h', 'r', 'w']\n"
     ]
    }
   ],
   "source": [
    "'''Write and test three functions that each take two words (strings) as parameters and\n",
    "return sorted lists (as defined above) representing respectively:\n",
    "Letters that appear in at least one of the two words.\n",
    "Letters that appear in both words.\n",
    "Letters that appear in either word, but not in both.\n",
    "Hint: These could all be done programmatically, but consider carefully what topic we\n",
    "have been discussing this week! Each function can be exactly one line.'''\n",
    "\n",
    "def letters_in_either(word1, word2):\n",
    "    return sorted(set(word1) | set(word2))\n",
    "\n",
    "def letters_in_both(word1, word2):\n",
    "    return sorted(set(word1) & set(word2))\n",
    "\n",
    "def letters_in_either_but_not_both(word1, word2):\n",
    "    return sorted(set(word1) ^ set(word2))\n",
    "def test_functions():\n",
    "    word1 = \"hello\"\n",
    "    word2 = \"world\"\n",
    "    \n",
    "    print(f\"Letters in either '{word1}' or '{word2}': {letters_in_either(word1, word2)}\")\n",
    "    print(f\"Letters in both '{word1}' and '{word2}': {letters_in_both(word1, word2)}\")\n",
    "    print(f\"Letters in either '{word1}' or '{word2}', but not both: {letters_in_either_but_not_both(word1, word2)}\")\n",
    "    \n",
    "test_functions()\n"
   ]
  },
  {
   "cell_type": "code",
   "execution_count": 7,
   "id": "bf4a8003-8071-406e-9ad2-b38f6a92d3bf",
   "metadata": {},
   "outputs": [
    {
     "name": "stdin",
     "output_type": "stream",
     "text": [
      "Enter a country (or type 'quit' to exit):  Nepal\n",
      "What is the capital of Nepal?  Kathmandu\n"
     ]
    },
    {
     "name": "stdout",
     "output_type": "stream",
     "text": [
      "Capital of Nepal saved as Kathmandu.\n"
     ]
    },
    {
     "name": "stdin",
     "output_type": "stream",
     "text": [
      "Enter a country (or type 'quit' to exit):  Usa\n",
      "What is the capital of Usa?  I don't known\n"
     ]
    },
    {
     "name": "stdout",
     "output_type": "stream",
     "text": [
      "Capital of Usa saved as I don't known.\n"
     ]
    },
    {
     "name": "stdin",
     "output_type": "stream",
     "text": [
      "Enter a country (or type 'quit' to exit):  quit\n"
     ]
    },
    {
     "name": "stdout",
     "output_type": "stream",
     "text": [
      "Exiting the program.\n"
     ]
    }
   ],
   "source": [
    "'''Write a program that manages a list of countries and their capital cities. It should\n",
    "prompt the user to enter the name of a country. If the program already \"knows\"\n",
    "the name of the capital city, it should display it. Otherwise it should ask the user to\n",
    "enter it. This should carry on until the user terminates the program (how this\n",
    "happens is up to you).\n",
    "Note: A good solution to this task will be able to cope with the country being entered\n",
    "variously as, for example, \"Wales\", \"wales\", \"WALES\" and so on.'''\n",
    "\n",
    "\n",
    "countries_and_capitals = {}\n",
    "def get_country_and_capital():\n",
    "    while True:\n",
    "        country = input(\"Enter a country (or type 'quit' to exit): \").strip().lower()\n",
    "\n",
    "        if country == \"quit\":\n",
    "            print(\"Exiting the program.\")\n",
    "            break\n",
    "        if country in countries_and_capitals:\n",
    "            print(f\"The capital of {country.title()} is {countries_and_capitals[country]}.\")\n",
    "        else:\n",
    "            capital = input(f\"What is the capital of {country.title()}? \").strip()\n",
    "            countries_and_capitals[country] = capital\n",
    "            print(f\"Capital of {country.title()} saved as {capital}.\")\n",
    "get_country_and_capital()\n"
   ]
  },
  {
   "cell_type": "code",
   "execution_count": 9,
   "id": "f59c8711-40af-4b69-91df-38cef8652de4",
   "metadata": {},
   "outputs": [
    {
     "name": "stdin",
     "output_type": "stream",
     "text": [
      "Enter an encrypted message:  6\n"
     ]
    },
    {
     "name": "stdout",
     "output_type": "stream",
     "text": [
      "The six most common letters and their counts are:\n"
     ]
    }
   ],
   "source": [
    "'''One approach to analysing some encrypted data where a substitution is suspected\n",
    "is frequency analysis. A count of the different symbols in the message can be used\n",
    "to identify the language used, and sometimes some of the letters. In English, the\n",
    "most common letter is \"e\", and so the symbol representing \"e\" should appear most\n",
    "in the encrypted text.\n",
    "Write a program that processes a string representing a message and reports the six\n",
    "most common letters, along with the number of times they appear. Case should\n",
    "not matter, so \"E\" and \"e\" are considered the same.\n",
    "Hint: There are many ways to do this. It is obviously a dictionary, but we will want\n",
    "zero counts, so some initialisation is needed. Also, sorting dictionaries is tricky, so\n",
    "best to ignore that initially, and then check the usual resources for the runes.'''\n",
    "\n",
    "from collections import Counter\n",
    "def frequency_analysis(message):\n",
    "    message = message.lower()\n",
    "    filtered_message = [char for char in message if char.isalpha()]\n",
    "    letter_counts = Counter(filtered_message)\n",
    "    most_common = letter_counts.most_common(6)\n",
    "    print(\"The six most common letters and their counts are:\")\n",
    "    for letter, count in most_common:\n",
    "        print(f\"{letter}: {count}\")\n",
    "message = input(\"Enter an encrypted message: \")\n",
    "frequency_analysis(message)\n"
   ]
  }
 ],
 "metadata": {
  "kernelspec": {
   "display_name": "Python 3 (ipykernel)",
   "language": "python",
   "name": "python3"
  },
  "language_info": {
   "codemirror_mode": {
    "name": "ipython",
    "version": 3
   },
   "file_extension": ".py",
   "mimetype": "text/x-python",
   "name": "python",
   "nbconvert_exporter": "python",
   "pygments_lexer": "ipython3",
   "version": "3.13.0"
  }
 },
 "nbformat": 4,
 "nbformat_minor": 5
}
